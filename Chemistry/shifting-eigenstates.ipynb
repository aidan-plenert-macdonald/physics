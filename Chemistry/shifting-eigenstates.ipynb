{
 "cells": [
  {
   "cell_type": "markdown",
   "metadata": {},
   "source": [
    "# Understanding shifting eigenstates\n",
    "\n",
    "Imagine I have a Hamiltonian $ H $ and a complete set of states $ \\psi_i $. If I wish to apply an infinitesimal operation to the states that preserves completeness, but not necessarily orthonogality, I wish to understand how the energy matrix transforms.\n",
    "\n",
    "Let,\n",
    "$$\\begin{align}\n",
    "E_{ij} &= \\langle \\psi_i | H |\\psi_j \\rangle \\\\\n",
    "E'_{ij} &= \\langle T_{\\Delta s} \\psi_i | H | T_{\\Delta s} \\psi_j \\rangle \\\\\n",
    "  &= \\sum_{k\\ell} \\langle T_{\\Delta s} \\psi_i |\\psi_k \\rangle \\langle \\psi_k | H |\\psi_\\ell \\rangle \\langle \\psi_\\ell | T_{\\Delta s} \\psi_j \\rangle \\\\\n",
    "E' &= T^\\dagger_{\\Delta s} E T_{\\Delta s}\n",
    "\\end{align}$$\n",
    "\n",
    "Then,\n",
    "$$\\begin{align}\n",
    "E(n\\Delta s) &= (T^n_{\\Delta s})^\\dagger E T^n_{\\Delta s}\n",
    "\\end{align}$$"
   ]
  }
 ],
 "metadata": {
  "kernelspec": {
   "display_name": "Python 3",
   "language": "python",
   "name": "python3"
  },
  "language_info": {
   "codemirror_mode": {
    "name": "ipython",
    "version": 3
   },
   "file_extension": ".py",
   "mimetype": "text/x-python",
   "name": "python",
   "nbconvert_exporter": "python",
   "pygments_lexer": "ipython3",
   "version": "3.6.3"
  }
 },
 "nbformat": 4,
 "nbformat_minor": 2
}
