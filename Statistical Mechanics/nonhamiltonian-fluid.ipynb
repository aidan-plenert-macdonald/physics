{
 "cells": [
  {
   "cell_type": "markdown",
   "metadata": {},
   "source": [
    "The solution can be derived for more generalized dynamics from principle similar to [D'Alembert's Principle](https://en.wikipedia.org/wiki/D%27Alembert%27s_principle). From the least action principle, using a Hamiltonian,\n",
    "\n",
    "$$\\begin{align}\n",
    "0 &= \\delta \\int dt~\\big( \\sum_i \\dot{q}_i p_i - \\mathcal{H} \\big) \\\\\n",
    "  &= \\int dt~\\sum_i \\big( \\dot{q}_i - \\frac{\\partial}{\\partial p_i} \\mathcal{H} \\big) \\delta p_i + \\sum_i \\big( \\dot{p}_i + \\frac{\\partial}{\\partial q_i} \\mathcal{H} \\big) \\delta q_i \\\\\n",
    "  &= \\int dt~\\sum_i \\big(\\dot{z}_i - J_{ij} \\frac{\\partial \\mathcal{H}}{\\partial z_j} \\big) \\delta z_i\n",
    "\\end{align}$$\n",
    "\n",
    "As shown in [Non-Hamiltonian equilibrium statistical mechanics](https://journals.aps.org/pre/abstract/10.1103/PhysRevE.67.021101) by Sergi, we can basically just replace $ J_{ij} \\frac{\\partial \\mathcal{H}}{\\partial z_j} $ with canonical brackets or a non-Hamiltonian system. Our modified D'Alembert's principle is simply,\n",
    "\n",
    "$$\\begin{align}\n",
    "0 &= \\int dt~\\sum_i \\big(\\dot{z}_i - f(z_i) \\big) \\delta z_i\n",
    "\\end{align}$$\n",
    "\n",
    "The major step [above](https://physics.stackexchange.com/a/337473/92177) was taking the local field average assuming equilibrium. The average can be done over the statistical equilibrium as defined [On the classical statistical mechanics of non-Hamiltonian systems](http://iopscience.iop.org/article/10.1209/epl/i1999-00139-0/fulltext/45202.html) by Tuckerman et al. (same average as by Sergi, just easier to read).\n",
    "\n",
    "\n",
    "\n"
   ]
  }
 ],
 "metadata": {
  "kernelspec": {
   "display_name": "Python 3",
   "language": "python",
   "name": "python3"
  },
  "language_info": {
   "codemirror_mode": {
    "name": "ipython",
    "version": 3
   },
   "file_extension": ".py",
   "mimetype": "text/x-python",
   "name": "python",
   "nbconvert_exporter": "python",
   "pygments_lexer": "ipython3",
   "version": "3.6.3"
  }
 },
 "nbformat": 4,
 "nbformat_minor": 2
}
