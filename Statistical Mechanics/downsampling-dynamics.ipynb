{
 "cells": [
  {
   "cell_type": "markdown",
   "metadata": {},
   "source": [
    "# Downsampling Hamiltonian Dynamics\n",
    "\n",
    "Consider a Hamiltonian system $ \\mathcal{H}(z) $. If I wish to find the trajectory of a new variable $ x = x(z) $, we can compute the average time evolution of $ x $ constraining to the hypersurface in $ z : x(z) = x $.\n",
    "\n",
    "$$\\begin{align}\n",
    "\\big\\langle \\dot{x} \\big\\rangle_{Z|X=x} &= \\big\\langle \\{ x, \\mathcal{H} \\}_z \\big\\rangle_{Z|X=x} \\\\\n",
    "  &= \\int dz ~ \\rho(z) \\delta( x(z) - z ) ~ \\{ x, \\mathcal{H} \\}_z\n",
    "\\end{align}$$\n",
    "\n",
    "Above shows how to compute the average time evolution, but we should also care about higher moments. A sufficient condition for all higher moments to vanish (indicating a constant uncertainty) is that $ \\{ x, \\mathcal{H} \\}_z = f(x) $ is purely a function of $ x $. Then,\n",
    "\n",
    "$$\\begin{align}\n",
    "\\big\\langle \\dot{x} \\big\\rangle_{Z|X=x} &= f(x) \\int dz ~ \\rho(z) \\delta( x(z) - z ) \\\\\n",
    "\\dot{x} &= f(x)\n",
    "\\end{align}$$\n",
    "\n",
    "The integral is unity by construction. It is trivial to see how all higher moments vanish."
   ]
  },
  {
   "cell_type": "markdown",
   "metadata": {},
   "source": [
    "## Springy Particles\n",
    "\n",
    "$$\\begin{align}\n",
    "\\mathcal{H}(\\vec{q}, \\vec{p}) &= \\frac{1}{2} \\big( p_1^2 + p_2^2 \\big) + \\frac{\\lambda}{2} \\big( q_1 - q_2 \\big)^2\n",
    "\\end{align}$$\n",
    "\n",
    "For $ \\lambda \\rightarrow 0 $, should behave like 2 free particles. For $ \\lambda \\rightarrow \\infty $, like a single double mass particle. And for somewhere in the middle, there should be a point where it behaves more like a spring."
   ]
  },
  {
   "cell_type": "markdown",
   "metadata": {},
   "source": [
    "Let's define $ z = (q_1, q_2, p_1, p_2) $ and $ x(z) = (q_1 + \\alpha q_2, p_1 + \\alpha p_2) $,\n",
    "\n",
    "$$\\begin{align}\n",
    "\\{ x, \\mathcal{H} \\}_z &= \\nabla x \\cdot J \\nabla H \\\\\n",
    "  &= \\left(\\begin{matrix}\n",
    "    1 & \\alpha & 0 & 0 \\\\ \n",
    "    0 & 0 & 1 & \\alpha \\\\\n",
    "\\end{matrix}\\right) \\left(\\begin{matrix}\n",
    "    0 & 0 & 0 & 1 \\\\\n",
    "    0 & 0 & 1 & 0 \\\\\n",
    "    0 & -1 & 0 & 0 \\\\\n",
    "    -1 & 0 & 0 & 0 \\\\\n",
    "\\end{matrix}\\right) \\left(\\begin{matrix}\n",
    "    \\lambda(q_1 - q_2) \\\\\n",
    "    \\lambda(q_2 - q_1) \\\\\n",
    "    p_1 \\\\\n",
    "    p_2 \\\\\n",
    "\\end{matrix}\\right) \\\\\n",
    "  &= \\left(\\begin{matrix}\n",
    "    p_1 + \\alpha p_2 \\\\ \n",
    "    \\lambda(q_2 - q_1) + \\alpha \\lambda(q_1 - q_2) \\\\\n",
    "\\end{matrix}\\right) \\\\\n",
    "  &= \\left(\\begin{matrix}\n",
    "    p_1 + \\alpha p_2 \\\\ \n",
    "    \\lambda(1 - \\alpha) (q_2 - q_1) \\\\\n",
    "\\end{matrix}\\right) \\\\\n",
    "\\end{align}$$\n",
    "\n",
    "For $ \\alpha \\in \\{ -1, +1 \\} $, we write $ \\dot{x} = J x $. Either a free particle or a harmonic oscillator."
   ]
  },
  {
   "cell_type": "markdown",
   "metadata": {},
   "source": [
    "# 4 Up-Down Particles\n",
    "\n",
    "$$\\begin{align}\n",
    "\\mathcal{H}(\\vec{s}) = \\big( s_1 + s_2 \\big)\\big( s_3 + s_4 \\big)\n",
    "\\end{align}$$"
   ]
  },
  {
   "cell_type": "code",
   "execution_count": 9,
   "metadata": {},
   "outputs": [
    {
     "data": {
      "image/png": "[encoded data removed]",
      "text/latex": [
       "$$\\frac{- 8 \\beta e^{4 \\beta} + 8 \\beta e^{- 4 \\beta}}{2 e^{4 \\beta} + 12 + 2 e^{- 4 \\beta}}$$"
      ],
      "text/plain": [
       "       4⋅β        -4⋅β\n",
       "- 8⋅β⋅ℯ    + 8⋅β⋅ℯ    \n",
       "──────────────────────\n",
       "   4⋅β           -4⋅β \n",
       "2⋅ℯ    + 12 + 2⋅ℯ     "
      ]
     },
     "metadata": {},
     "output_type": "display_data"
    }
   ],
   "source": [
    "import sympy as sp\n",
    "from itertools import product\n",
    "from IPython.display import display\n",
    "sp.init_printing()\n",
    "\n",
    "beta = sp.symbols(\"beta\")\n",
    "\n",
    "def H(s1, s2, s3, s4):\n",
    "    return (s1 + s2)*(s3 + s4)\n",
    "\n",
    "Z = sum(sp.exp(-beta*H(*s)) for s in product(*[[-1, 1]]*4))\n",
    "S = sum(beta*H(*s) * sp.exp(-beta*H(*s)) for s in product(*[[-1, 1]]*4))/Z\n",
    "\n",
    "display(S)"
   ]
  },
  {
   "cell_type": "markdown",
   "metadata": {},
   "source": [
    "Let's define a mapping $ x: \\{-1, +1\\}^4 \\rightarrow \\{-1, +1\\}^n $ for $ n < 4 $. We can construct a new Hamiltonian, $ \\mathcal{H}(x) $ such that,\n",
    "\n",
    "$$\\begin{align}\n",
    "H(S | X) &= - \\sum_{x \\in \\{-1, +1\\}^n} \\sum_{s \\in \\{-1, +1\\}^4} Pr(S=s, X=x) \\log \\frac{Pr(S=s, X=x)}{Pr(X=x)} \\\\\n",
    "  &= H(S) + \\sum_{s \\in \\{-1, +1\\}^4} Pr(S=s) \\log Pr(X=x(s))\n",
    "\\end{align}$$\n",
    "\n"
   ]
  },
  {
   "cell_type": "markdown",
   "metadata": {},
   "source": [
    "# Numerical\n",
    "\n",
    "Let $ Z \\sim \\mathcal{N}(0, 1) $ and then $ x(z) = Az_1^2 + Bz_2^2 $."
   ]
  },
  {
   "cell_type": "code",
   "execution_count": 9,
   "metadata": {},
   "outputs": [
    {
     "name": "stdout",
     "output_type": "stream",
     "text": [
      "(0.00, 1.00) ==> 0.2989123206118202\n",
      "(0.10, 0.90) ==> 0.07105848152617368\n",
      "(0.20, 0.80) ==> 0.04818642883268534\n",
      "(0.30, 0.70) ==> 0.031160840439799463\n",
      "(0.40, 0.60) ==> 0.027339378147086497\n",
      "(0.50, 0.50) ==> 0.024377230515990205\n",
      "(0.60, 0.40) ==> 0.027268314968600285\n",
      "(0.70, 0.30) ==> 0.036356545315719614\n",
      "(0.80, 0.20) ==> 0.043253503631420186\n",
      "(0.90, 0.10) ==> 0.07012047221967486\n"
     ]
    }
   ],
   "source": [
    "import numpy as np\n",
    "import matplotlib.pyplot as plt\n",
    "\n",
    "def entropy(Z, bins):\n",
    "    p, x = np.histogram(Z, bins=bins)\n",
    "    p, dx = p[p > 0.0], np.diff(x)[p > 0.0]\n",
    "    return np.sum((dx*p*np.log(p)))\n",
    "    \n",
    "def cond_entropy(A, B, N=100000):\n",
    "    Z = np.random.randn(2, N)\n",
    "    X = A*Z[0, :]**2 + B*Z[1, :]**2\n",
    "\n",
    "    dx = (np.max(X) - np.min(X))/N**0.5\n",
    "    bins = np.arange(np.min(X), np.max(X), dx)\n",
    "    \n",
    "    return np.mean([\n",
    "        entropy(Z[0, (low <= X) & (X < high)], bins=int(N**0.75)) +\n",
    "        entropy(Z[1, (low <= X) & (X < high)], bins=int(N**0.75))\n",
    "        for low, high in zip(bins[:-1], bins[1:])\n",
    "    ])\n",
    "\n",
    "for A in np.arange(0, 1, 0.1):\n",
    "    B = 1.0 - A\n",
    "    H = cond_entropy(A, B, N=int(1e6))\n",
    "    print(f\"({A:0.2f}, {B:0.2f}) ==> {H}\")"
   ]
  },
  {
   "cell_type": "markdown",
   "metadata": {},
   "source": [
    "So the optima is $ A = B = 0.5 $ as one might predict."
   ]
  }
 ],
 "metadata": {
  "kernelspec": {
   "display_name": "Python 3",
   "language": "python",
   "name": "python3"
  },
  "language_info": {
   "codemirror_mode": {
    "name": "ipython",
    "version": 3
   },
   "file_extension": ".py",
   "mimetype": "text/x-python",
   "name": "python",
   "nbconvert_exporter": "python",
   "pygments_lexer": "ipython3",
   "version": "3.6.5"
  }
 },
 "nbformat": 4,
 "nbformat_minor": 2
}
