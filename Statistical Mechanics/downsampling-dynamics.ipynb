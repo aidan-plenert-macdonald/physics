{
 "cells": [
  {
   "cell_type": "markdown",
   "metadata": {},
   "source": [
    "# Downsampling Hamiltonian Dynamics\n",
    "\n",
    "Consider a Hamiltonian system $ \\mathcal{H}: \\mathbb{R}^{2N} \\rightarrow \\mathbb{R} $. I wish to construct a map $ x: \\mathbb{R}^{2N} \\rightarrow \\mathbb{R}^{2M} $ with $ M < N $. Intuitively, I want to use $ x(z) $ as an approximate state of my system. This approximate state should be such that it has a minimal loss of information.\n",
    "\n",
    "Or variationally,\n",
    "$$\\begin{align}\n",
    "x = \\min_x H(Z | X)\n",
    "\\end{align}$$\n",
    "\n",
    "In the canonical ensemble this becomes,\n",
    "$$\\begin{align}\n",
    "H\\big(Z\\big|X) = - \\int dz~ \\rho_X\\big(x(z)\\big)~\\rho_Z\\big(z\\big) \\log \\rho_Z\\big(z\\big)\n",
    "\\end{align}$$"
   ]
  },
  {
   "cell_type": "markdown",
   "metadata": {},
   "source": [
    "## Downsampling Density functions\n",
    "\n",
    "If we wish to downsample a p.d.f., we can try to minimize the loss of information.\n",
    "\n",
    "$$\\begin{align}\n",
    "\\min H\\big(Z\\big|X) = - \\int dz~ \\rho_X\\big(x(z)\\big)~\\rho_Z\\big(z\\big) \\log \\rho_Z\\big(z\\big)\n",
    "\\end{align}$$\n",
    "\n",
    "As an example, lets consider $ Z \\sim \\mathcal{N}(0, \\mathbb{1}) $,\n"
   ]
  },
  {
   "cell_type": "markdown",
   "metadata": {},
   "source": [
    "## Example\n",
    "\n",
    "Take $ x(z)^2 = A z_1^2 + B z_2^2 $,\n",
    "\n",
    "$$\\begin{align}\n",
    "\\rho_Z(z) d^2z &= Z_z^{-1} e^{-( z_1^2 + z_2^2 )/2} d^2z \\\\\n",
    "\\end{align}$$\n",
    "\n",
    "Solving for an intermediate distribution,\n",
    "$$\\begin{align}\n",
    "\\rho(y) &= Z_z^{-1} \\int d^2z~\\delta\\big(y - (A z_1^2 + B z_2^2) \\big) e^{-( z_1^2 + z_2^2 )/2} \\\\\n",
    "  &= \\frac{1}{2\\pi} \\int_{i\\mathbb{R}} \\frac{ds}{2\\pi} e^{sy} \\int d^2z e^{- s(A z_1^2 + B z_2^2)} e^{-( z_1^2 + z_2^2 )/2} \\\\\n",
    "  &= \\int_{i\\mathbb{R}} \\frac{ds}{2\\pi} e^{sy} \\left(1 + \\frac{1}{\\sqrt{2sA}}\\right) \\left(1 + \\frac{1}{\\sqrt{2sB}}\\right)\n",
    "\\end{align}$$\n",
    "\n",
    "\n",
    "\n",
    "\n"
   ]
  }
 ],
 "metadata": {
  "kernelspec": {
   "display_name": "Python 3",
   "language": "python",
   "name": "python3"
  },
  "language_info": {
   "codemirror_mode": {
    "name": "ipython",
    "version": 3
   },
   "file_extension": ".py",
   "mimetype": "text/x-python",
   "name": "python",
   "nbconvert_exporter": "python",
   "pygments_lexer": "ipython3",
   "version": "3.6.3"
  }
 },
 "nbformat": 4,
 "nbformat_minor": 2
}
