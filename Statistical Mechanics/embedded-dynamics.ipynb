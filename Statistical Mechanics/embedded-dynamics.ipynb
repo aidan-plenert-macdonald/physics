{
 "cells": [
  {
   "cell_type": "markdown",
   "metadata": {},
   "source": [
    "# Embedding Non-Hamiltonian Mechanics into a Hamiltonian"
   ]
  },
  {
   "cell_type": "markdown",
   "metadata": {},
   "source": [
    "Consider dynamics like $ \\dot{x} = f(x) $ with $ f: \\mathbb{R}^N \\rightarrow \\mathbb{R}^N $. I would like to embed this system into Hamiltonian system with state variables $ z = (q, p) \\in \\mathbb{R}^M $ for $ M \\geq N $ where we can define $ x^t = x(z^t) ~ \\forall t $.\n",
    "\n",
    "In the Hamiltonian system, \n",
    "\\begin{align}\n",
    "\\dot{a} = \\{ a, \\mathcal{H} \\} = \\sum_{ij} \\frac{\\partial b}{\\partial z_i} J_{ij} \\frac{\\partial \\mathcal{H}}{\\partial z_j}\n",
    "\\end{align}\n",
    "where $ J_{ij} = \\pm \\delta_{ij} $.\n",
    "\n",
    "Then we can see,\n",
    "\\begin{align}\n",
    "f(x)_k &= \\sum_{ij} \\frac{\\partial x_k}{\\partial z_i} J_{ij} \\frac{\\partial \\mathcal{H}}{\\partial z_j}\n",
    "\\end{align}\n",
    "\n",
    "We would like to choose a Hamiltonian such that standard integrals of the non-Hamiltonian phase space reduce to the standard symplectic integrals,\n",
    "\n",
    "\\begin{align}\n",
    "\\int dx^t~J(x^0; x^t)~\\Lambda(x^t) = \\int dz^t~\\Lambda(x(z^t))\n",
    "\\end{align}\n",
    "\n",
    "From [here](nonhamiltonian.ipynb) we can see that $ \\dot{J}(x^0; x^t) = -J(x^0; x^t) \\sum_i \\frac{\\partial \\dot{x}_i}{\\partial x} $\n",
    "\n",
    "The phase space of $ x $ dynamics is lower dimension, so we need to add an additional term $ y \\in \\mathbb{R}^{(M-N)} $ as a normalized Gaussian like,\n",
    "\n",
    "\\begin{align}\n",
    "\\big( 2\\pi \\big)^{(N-M)/2}\\int dx^t~dy~J(x^0; x^t)~\\Lambda(x^t) e^{-\\|y\\|^2 / 2} = \\int dz^t~\\Lambda(x(z^t))\n",
    "\\end{align}\n",
    "\n",
    "This implies that,\n",
    "\n",
    "$$\\begin{align}\n",
    "\\det \\left[ \\frac{\\partial x^t \\partial y}{\\partial z^t} \\right]_{ij} \\det \\left[ \\frac{\\partial x^0}{\\partial x^t} \\right]_{k\\ell}  e^{-\\|y\\|^2 / 2} &= 1\n",
    "\\end{align}$$\n"
   ]
  },
  {
   "cell_type": "markdown",
   "metadata": {},
   "source": [
    "## Simple example\n",
    "\n",
    "Let us consider the ODE $ \\dot{x} = -\\alpha x $ for $ x \\in \\mathbb{R} $. Let's try embedding this by simply adding a momentum variable.\n",
    "\n",
    "Consider the simple Hamiltonian $ \\mathcal{H}(q, p) = \\frac{1}{2} p^2 + q $. Using Hamiltons equations, we get,\n",
    "$$\\begin{align}\n",
    "\\dot{q} &= p \\\\\n",
    "\\dot{p} &= -1\n",
    "\\end{align}$$\n",
    "\n",
    "Integrating these equations gives,\n",
    "$$\\begin{align}\n",
    "q^t &= \\frac{1}{2} t^2 \\\\\n",
    "p^t &= t\n",
    "\\end{align}$$\n",
    "\n",
    "We can simply solve the ODE and get $ x_t = x_0 e^{-\\alpha t} $. Then we can see that,\n",
    "$$\\begin{align}\n",
    "\\frac{\\partial x_0}{\\partial x_t} &= e^{\\alpha t} \\\\\n",
    "\\end{align}$$"
   ]
  },
  {
   "cell_type": "markdown",
   "metadata": {},
   "source": [
    "## Function decomposition\n",
    "\n",
    "Imagine we have a set of hamiltonians $ \\{ \\mathcal{H}_i \\} $. If we take the corresponding trajectories from these hamiltonians $ (q_i, p_i) $, we could find a decomposition of our trajectory $ x^t $,\n",
    "\n",
    "$$\\begin{align}\n",
    "x^t = \\sum_i a_i q_i^t\n",
    "\\end{align}$$"
   ]
  },
  {
   "cell_type": "markdown",
   "metadata": {},
   "source": [
    "# Solve the PDE's\n",
    "\n",
    "$$\\begin{align}\n",
    "\\end{align}$$\n",
    "\n",
    "Consider $ \\dot{x} = f(x) $ and $ x = g(z) $ for a Hamiltonian $ \\mathcal{H}(z) $.\n",
    "\n",
    "Then,\n",
    "$$\\begin{align}\n",
    "\\dot{x} = f(g(z)) = \\nabla_z g(z) \\circ B \\nabla_z \\mathcal{H}\n",
    "\\end{align}$$\n",
    "\n",
    "Additionally, we can write down the generalize Louiville equations,\n",
    "$$\\begin{align}\n",
    "\\partial_t \\big(J \\rho\\big) + \\nabla_x \\cdot \\big(J \\rho \\dot{x}\\big) = 0\n",
    "\\end{align}$$\n",
    "\n",
    "The Jacobian can be solved from $ \\dot{J} = J \\nabla_x \\cdot f(x) $."
   ]
  }
 ],
 "metadata": {
  "kernelspec": {
   "display_name": "Python 3",
   "language": "python",
   "name": "python3"
  },
  "language_info": {
   "codemirror_mode": {
    "name": "ipython",
    "version": 3
   },
   "file_extension": ".py",
   "mimetype": "text/x-python",
   "name": "python",
   "nbconvert_exporter": "python",
   "pygments_lexer": "ipython3",
   "version": "3.6.3"
  }
 },
 "nbformat": 4,
 "nbformat_minor": 2
}
