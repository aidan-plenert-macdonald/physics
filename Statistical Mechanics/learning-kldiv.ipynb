{
 "cells": [
  {
   "cell_type": "markdown",
   "metadata": {},
   "source": [
    "I want a network that learns the KL Divergence"
   ]
  },
  {
   "cell_type": "code",
   "execution_count": 2,
   "metadata": {},
   "outputs": [],
   "source": [
    "import numpy as np\n",
    "import matplotlib.pyplot as plt\n",
    "from sklearn.preprocessing import PolynomialFeatures\n",
    "from rnn import EchoStateNetwork as ESN\n",
    "from itertools import repeat\n",
    "\n",
    "try:\n",
    "    from itertools import izip as zip\n",
    "except:\n",
    "    pass\n",
    "\n",
    "class RandEnergy:\n",
    "    def __init__(self, degree, state_size, std=10, mean=0):\n",
    "        if degree % 2 == 1:\n",
    "            degree += 1\n",
    "        self.transform = PolynomialFeatures(degree=degree)\n",
    "        self.state_size = state_size\n",
    "        self.weights = std*np.random.randn(self.transform.fit_transform(np.zeros(state_size).reshape(1, -1)).size) + mean\n",
    "        self.weights[-state_size:] = np.abs(self.weights[-state_size:]) # Ensure the energy is bounded\n",
    "\n",
    "    def __call__(self, x):\n",
    "        return self.transform.transform(x.reshape(1, -1)).dot(self.weights)\n",
    "\n",
    "def monte_carlo(E, step_size=1e-1, n_samples=None):\n",
    "    x = np.random.randn(E.state_size)\n",
    "    for i in range(n_samples):\n",
    "        nx = step_size*np.random.randn(x.size)\n",
    "        if np.random.rand() < np.exp(-E(nx) + E(x)):\n",
    "            x = nx\n",
    "        yield x\n",
    "\n",
    "def ihstack(args_gen):\n",
    "    for args in args_gen:\n",
    "        yield np.hstack(args)\n",
    "\n",
    "def kl_divergence(E1, E2, n_samples=1000):\n",
    "    total = 0.0\n",
    "    for x in monte_carlo(E1, n_samples=n_samples):\n",
    "        total += E1(x) - E2(x)\n",
    "    return total/n_samples\n"
   ]
  },
  {
   "cell_type": "code",
   "execution_count": 3,
   "metadata": {},
   "outputs": [
    {
     "name": "stdout",
     "output_type": "stream",
     "text": [
      "Epoch 0\n",
      "Epoch 1\n",
      "Epoch 2\n",
      "Epoch 3\n",
      "Epoch 4\n",
      "Epoch 5\n"
     ]
    },
    {
     "name": "stderr",
     "output_type": "stream",
     "text": [
      "/usr/local/lib/python3.6/site-packages/ipykernel_launcher.py:28: RuntimeWarning: overflow encountered in exp\n"
     ]
    },
    {
     "name": "stdout",
     "output_type": "stream",
     "text": [
      "Epoch 6\n",
      "Epoch 7\n",
      "Epoch 8\n",
      "Epoch 9\n"
     ]
    }
   ],
   "source": [
    "SAMPLES = 100\n",
    "DEGREE  = 4\n",
    "STATE_SIZE = 10\n",
    "\n",
    "esn = ESN()\n",
    "for epoch in range(10):\n",
    "    print(\"Epoch\", epoch)\n",
    "    E1, E2 = RandEnergy(DEGREE, STATE_SIZE), RandEnergy(DEGREE, STATE_SIZE)\n",
    "    y = kl_divergence(E1, E2, n_samples=SAMPLES)\n",
    "    esn.fit(ihstack(zip(monte_carlo(E1, n_samples=SAMPLES),\n",
    "                        monte_carlo(E1, n_samples=SAMPLES))),\n",
    "            repeat(y, times=SAMPLES), reset=True)"
   ]
  },
  {
   "cell_type": "code",
   "execution_count": 6,
   "metadata": {},
   "outputs": [
    {
     "name": "stderr",
     "output_type": "stream",
     "text": [
      "/usr/local/lib/python3.6/site-packages/ipykernel_launcher.py:28: RuntimeWarning: overflow encountered in exp\n"
     ]
    },
    {
     "data": {
      "image/png": "[encoded data removed]",
      "text/plain": [
       "<matplotlib.figure.Figure at 0x10f66e048>"
      ]
     },
     "metadata": {},
     "output_type": "display_data"
    }
   ],
   "source": [
    "E1, E2 = RandEnergy(DEGREE, STATE_SIZE), RandEnergy(DEGREE, STATE_SIZE)\n",
    "y = kl_divergence(E1, E2, n_samples=SAMPLES)\n",
    "y_pred = np.array(list(esn.predict(ihstack(zip(monte_carlo(E1, n_samples=SAMPLES),\n",
    "                                               monte_carlo(E1, n_samples=SAMPLES))),\n",
    "                                   reset=True))).flatten()\n",
    "\n",
    "\n",
    "plt.plot(y*np.ones(y_pred.shape))\n",
    "plt.plot(y_pred)\n",
    "plt.legend(['True', 'Pred'])\n",
    "plt.show()"
   ]
  }
 ],
 "metadata": {
  "kernelspec": {
   "display_name": "Python 3",
   "language": "python",
   "name": "python3"
  },
  "language_info": {
   "codemirror_mode": {
    "name": "ipython",
    "version": 3
   },
   "file_extension": ".py",
   "mimetype": "text/x-python",
   "name": "python",
   "nbconvert_exporter": "python",
   "pygments_lexer": "ipython3",
   "version": "3.6.2"
  }
 },
 "nbformat": 4,
 "nbformat_minor": 2
}
