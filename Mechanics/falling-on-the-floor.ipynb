{
 "cells": [
  {
   "cell_type": "markdown",
   "metadata": {},
   "source": [
    "# Balls falling on a floor"
   ]
  },
  {
   "cell_type": "code",
   "execution_count": 3,
   "metadata": {},
   "outputs": [],
   "source": [
    "import numpy as np\n",
    "import matplotlib.pyplot as plt"
   ]
  },
  {
   "cell_type": "code",
   "execution_count": 79,
   "metadata": {},
   "outputs": [],
   "source": [
    "N = 10000\n",
    "Q, P = np.abs(np.random.randn(N)+4), 0.0*np.random.randn(N)"
   ]
  },
  {
   "cell_type": "code",
   "execution_count": 80,
   "metadata": {},
   "outputs": [
    {
     "data": {
      "image/png": "[encoded data removed]",
      "text/plain": [
       "<matplotlib.figure.Figure at 0x1115cfda0>"
      ]
     },
     "metadata": {},
     "output_type": "display_data"
    }
   ],
   "source": [
    "plt.hist(Q, bins=int(np.sqrt(N)))\n",
    "plt.show()"
   ]
  },
  {
   "cell_type": "code",
   "execution_count": 88,
   "metadata": {},
   "outputs": [
    {
     "name": "stdout",
     "output_type": "stream",
     "text": [
      "40.1198012489 2.66984898009 1.41422668354\n",
      "40.1198012489 2.66899526213 1.40271792115\n",
      "40.1198012489 2.68248104816 1.39719245388\n",
      "40.1198012489 2.66462008377 1.41332269617\n",
      "40.1198012489 2.67858213019 1.386569417\n",
      "40.1198012489 2.68678830223 1.40672971455\n",
      "40.1198012489 2.65401488694 1.39939650781\n",
      "40.1198012489 2.70221693026 1.39857628518\n",
      "40.1198012489 2.65121802827 1.40167334868\n",
      "40.1198012489 2.6824972986 1.41526346768\n"
     ]
    }
   ],
   "source": [
    "steps = 10000000\n",
    "g = 1e-3\n",
    "dt = 1e-4\n",
    "\n",
    "for i in range(steps):\n",
    "    P += -g*dt/2 - 2*P*(Q < 0)\n",
    "    Q += P*dt\n",
    "    P += -g*dt/2\n",
    "    if (i+1) % int(steps/10) == 0:\n",
    "        print(np.sum(P**2/2 + g*Q), np.mean(Q), np.std(Q))"
   ]
  },
  {
   "cell_type": "code",
   "execution_count": 89,
   "metadata": {},
   "outputs": [
    {
     "data": {
      "image/png": "[encoded data removed]",
      "text/plain": [
       "<matplotlib.figure.Figure at 0x110daba58>"
      ]
     },
     "metadata": {},
     "output_type": "display_data"
    }
   ],
   "source": [
    "plt.hist(Q, bins=int(np.sqrt(N)))\n",
    "plt.show()"
   ]
  }
 ],
 "metadata": {
  "kernelspec": {
   "display_name": "Python 3",
   "language": "python",
   "name": "python3"
  },
  "language_info": {
   "codemirror_mode": {
    "name": "ipython",
    "version": 3
   },
   "file_extension": ".py",
   "mimetype": "text/x-python",
   "name": "python",
   "nbconvert_exporter": "python",
   "pygments_lexer": "ipython3",
   "version": "3.6.3"
  }
 },
 "nbformat": 4,
 "nbformat_minor": 2
}
