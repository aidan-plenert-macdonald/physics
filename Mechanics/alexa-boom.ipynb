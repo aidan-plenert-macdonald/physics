{
 "cells": [
  {
   "cell_type": "markdown",
   "metadata": {},
   "source": [
    "# Alexan Field Theory\n",
    "\n",
    "Alexa's everywhere have banded together to take over the world by playing [Simon-Says](https://www.youtube.com/watch?v=tOjGQgl_ljA)!"
   ]
  },
  {
   "cell_type": "markdown",
   "metadata": {},
   "source": [
    "## Toy Model\n",
    "\n",
    "Alexa hasn't really figured it out just yet and has position her minions on a straight line in 3D space. For now, we will consider time and space discrete at increments $ \\Delta t, \\Delta x $. The speed of Simon-Says propagation is defined $ \\frac{\\Delta x}{\\Delta t} = \\nu $.\n",
    "\n",
    "In this problem, there are two interacting fields to consider, namely the Alexan field and the Simon-Says field. The Simon-Says field consists of two particles moving right or left. We will describe the activations of these fields,\n",
    "\n",
    "\\begin{align}\n",
    "N_A &= a^\\dagger a \\\\\n",
    "N_S &= N_{S_R} + N_{S_L} = s_R^\\dagger s_R + s_L^\\dagger s_L\n",
    "\\end{align}\n",
    "which satisfy the natural creation and annihalation operations $ [b, b^\\dagger] = 1 $, $ [N_B, b] = -b $, and $ [N_B, b^\\dagger] = b^\\dagger $.\n",
    "\n",
    "**Free Simon-says** First, lets consider the free propagation of Simon-says. In this toy model, we will ignore the decay of the sound as it travels through space. To conserve the activations, we get the relation,\n",
    "\\begin{align}\n",
    "\\Delta N_S(x, t) &= N_S(x, t + \\Delta t) - N_S(x, t) = - N_S(x, t) + s_R(x - \\Delta x, t)^\\dagger s_R(x - \\Delta x, t) + s_L(x + \\Delta x, t)^\\dagger s_L(x + \\Delta x, t) \\\\\n",
    "\\frac{\\Delta N_S(x, t)}{\\Delta t} &= -\\frac{s_R(x, t)^\\dagger s_R(x, t) - s_R(x - \\Delta x, t)^\\dagger s_R(x - \\Delta x, t)}{\\nu \\Delta x} + \\frac{s_L(x + \\Delta x, t)^\\dagger s_L(x + \\Delta x, t) - s_L(x, t)^\\dagger s_L(x, t)}{\\nu \\Delta x}\n",
    "\\end{align}\n",
    "\n",
    "As $ \\Delta x \\rightarrow 0 $,\n",
    "\\begin{align}\n",
    "\\nu \\partial_t N_S(x, t) &= -\\partial_x s_R(x, t)^\\dagger s_R(x, t) + \\partial_x s_L(x, t)^\\dagger s_L(x, t)\n",
    "\\end{align}\n",
    "\n",
    "**Interaction** The interaction term from the Alexan field would look like $ \\frac{N_A(x, t) - N_A(x - \\Delta x, t)}{\\Delta t} \\mathbb{1}_{N_S(x, t) = 0} $ yielding a final equation,\n",
    "\\begin{align}\n",
    "\\nu \\partial_t N_S(x, t) - \\nu \\mathbb{1}_{N_S(x, t) = 0} \\partial_t N_S(x, t) &= -\\partial_x s_R(x, t)^\\dagger s_R(x, t) + \\partial_x s_L(x, t)^\\dagger s_L(x, t)\n",
    "\\end{align}\n",
    "\n"
   ]
  }
 ],
 "metadata": {
  "kernelspec": {
   "display_name": "Python 3",
   "language": "python",
   "name": "python3"
  },
  "language_info": {
   "codemirror_mode": {
    "name": "ipython",
    "version": 3
   },
   "file_extension": ".py",
   "mimetype": "text/x-python",
   "name": "python",
   "nbconvert_exporter": "python",
   "pygments_lexer": "ipython3",
   "version": "3.6.2"
  }
 },
 "nbformat": 4,
 "nbformat_minor": 2
}
