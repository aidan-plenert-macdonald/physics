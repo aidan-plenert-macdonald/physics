{
 "cells": [
  {
   "cell_type": "markdown",
   "metadata": {},
   "source": [
    "# Language Classification\n",
    "\n",
    "We will learn to classify phrases as Spanish or English.\n",
    "\n",
    "First, lets get all the data."
   ]
  },
  {
   "cell_type": "code",
   "execution_count": 1,
   "metadata": {},
   "outputs": [
    {
     "data": {
      "text/plain": [
       "([' AL DUQUE DE BÉJAR, marqués de Gibraleón, conde de Benalcázar y Bañares, vizconde de La Puebla de Alcocer, señor de las villas de Capilla, Curiel y Burguillos En fe del buen acogimiento y honra que hace Vuestra Excelencia a toda suerte de libros, como príncipe tan inclinado a favorecer las buenas artes, mayormente las que por su nobleza no se abaten al servicio y granjerías del vulgo, he determinado de sacar a luz al Ingenioso hidalgo don Quijote de la Mancha, al abrigo del clarísimo nombre de Vuestra Excelencia, a quien, con el acatamiento que debo a tanta grandeza, suplico le reciba agradablemente en su protección, para que a su sombra, aunque desnudo de aquel precioso ornamento de elegancia y erudición de que suelen andar vestidas las obras que se componen en las casas de los hombres que saben, ose parecer seguramente en el juicio de algunos que, continiéndose en los límites de su ignorancia, suelen condenar con más rigor y menos justicia los trabajos ajenos; que, poniendo los ojos la prudencia de Vuestra Excelencia en mi buen deseo, fío que no desdeñará la cortedad de tan humilde servicio',\n",
       "  ' Miguel de Cervantes Saavedra'],\n",
       " [' He looks out after a job, and puts plenty of energy into it while he is at it; in fact, so many different things has he done, that he says himself that it is easier to mention the things he has not done than the ones he has',\n",
       "  ' He has been an ordinary seaman, typewriter agent, a steamer-fireman, office-manager, hobo, farmhand, gold prospector, coach-driver, navvy, engine-driver, and many other things'])"
      ]
     },
     "execution_count": 1,
     "metadata": {},
     "output_type": "execute_result"
    }
   ],
   "source": [
    "import requests, re\n",
    "\n",
    "spanish_novels = ['http://www.gutenberg.org/cache/epub/2000/pg2000.txt']\n",
    "english_novels = ['https://www.gutenberg.org/files/46787/46787-0.txt']\n",
    "\n",
    "spanish_sentences = [s for novel in spanish_novels \n",
    "                     for s in re.sub(r'\\s+', ' ', requests.get(novel).text).split('.')[20:-20]]\n",
    "english_sentences = [s for novel in english_novels\n",
    "                     for s in re.sub(r'\\s+', ' ', requests.get(novel).text).split('.')[20:-20]]\n",
    "\n",
    "spanish_sentences[:2], english_sentences[:2]"
   ]
  },
  {
   "cell_type": "code",
   "execution_count": null,
   "metadata": {},
   "outputs": [],
   "source": [
    "from __future__ import print_function\n",
    "import mxnet as mx\n",
    "import numpy as np\n",
    "from mxnet import nd, autograd, sym\n",
    "from mxnet import gluon\n",
    "\n",
    "ctx = mx.cpu()\n",
    "\n",
    "data = np.array([(s, 1) for s in spanish_sentences] + [(s, 0) for s in english_sentences])\n",
    "\n",
    "layer = mx.gluon.rnn.LSTM(100, 3)\n",
    "net = mx.gluon.nn.Dense(1)\n",
    "softmax_cross_entropy = gluon.loss.SoftmaxCrossEntropyLoss()\n",
    "\n",
    "layer.initialize(ctx=ctx)\n",
    "net.collect_params().initialize(ctx=ctx)\n",
    "\n",
    "trainer = gluon.Trainer(net.collect_params(), 'sgd', {'learning_rate': .1})\n",
    "for epoch in range(10):\n",
    "    np.random.shuffle(data)\n",
    "    losses = []\n",
    "    for s, l in data:\n",
    "        if len(s) == 0:\n",
    "            continue\n",
    "        \n",
    "        x = nd.array([ord(c) for c in s]).reshape((-1, 1, 1))\n",
    "        with autograd.record():\n",
    "            output = layer(x)\n",
    "            pred = net(output[output.shape[0]-1, :, :])\n",
    "            loss = softmax_cross_entropy(pred, nd.array([l]))\n",
    "        losses.append(loss.asscalar())\n",
    "        trainer.step(1, ignore_stale_grad=True)\n",
    "    print(\"Loss:\", np.mean(losses), \"+-\", np.std(losses))"
   ]
  }
 ],
 "metadata": {
  "kernelspec": {
   "display_name": "Python 3",
   "language": "python",
   "name": "python3"
  },
  "language_info": {
   "codemirror_mode": {
    "name": "ipython",
    "version": 3
   },
   "file_extension": ".py",
   "mimetype": "text/x-python",
   "name": "python",
   "nbconvert_exporter": "python",
   "pygments_lexer": "ipython3",
   "version": "3.6.3"
  }
 },
 "nbformat": 4,
 "nbformat_minor": 2
}
